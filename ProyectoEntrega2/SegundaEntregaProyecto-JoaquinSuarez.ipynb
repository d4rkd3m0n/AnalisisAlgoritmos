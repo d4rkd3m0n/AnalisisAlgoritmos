{
 "cells": [
  {
   "cell_type": "markdown",
   "metadata": {},
   "source": [
    "<h4>Segunda entrega - Joaquin Suarez</h4>"
   ]
  },
  {
   "cell_type": "markdown",
   "metadata": {},
   "source": [
    "<h5>Problema 1 MST</h5>"
   ]
  },
  {
   "cell_type": "markdown",
   "metadata": {},
   "source": [
    "(MST). Dado un grafo G = (V, E) con n vertices y m aristas. (El grafo podría representar una red telefónica). Cada arista es coloreada azul o roja. Tambien esta dado un parámetro k como parte de la entrada. Proponga un algoritmo que encuentre un árbol de expansión sobre G con exactamente k aristas azules, y exactamente n-k-1 aristas rojas. Determine el tiempo de ejecución del algoritmo y muestre que es correcto."
   ]
  },
  {
   "cell_type": "markdown",
   "metadata": {},
   "source": [
    "Para empezar se ordenan las aristas del grafo en una lista, con esta lista procedemos a crear el arbol de minima expansion "
   ]
  },
  {
   "cell_type": "code",
   "execution_count": 1,
   "metadata": {
    "collapsed": true
   },
   "outputs": [],
   "source": [
    "import networkx\n",
    "import itertools\n",
    "import logging\n",
    "import time\n",
    "import math\n",
    "import numpy as np\n",
    "import pylab as pl"
   ]
  },
  {
   "cell_type": "code",
   "execution_count": 6,
   "metadata": {
    "collapsed": true
   },
   "outputs": [],
   "source": [
    "def abrirArchivo(nom):\n",
    "    lines = [line.rstrip(\"\\n\") for line in open(nom)]\n",
    "    N = int(lines[0])\n",
    "    K = int(lines[1])\n",
    "    L = []\n",
    "    i = 0\n",
    "    for l in lines[2:]:\n",
    "        t = l.split(',',N - i)\n",
    "        i -= 1\n",
    "        q = (i * -1) - 1\n",
    "        for j in t:\n",
    "            if(j != 'Inf'):\n",
    "                tokens = j.split('/',1)\n",
    "                u = ((i * -1) - 1)\n",
    "                L.append((u,q, int(tokens[0]) , tokens[1]))\n",
    "            q+=1\n",
    "    return N, K, L"
   ]
  },
  {
   "cell_type": "markdown",
   "metadata": {},
   "source": [
    "Luego definimos las clases necesarias"
   ]
  },
  {
   "cell_type": "code",
   "execution_count": 3,
   "metadata": {
    "collapsed": true
   },
   "outputs": [],
   "source": [
    "class arista:\n",
    "    def __init__(self,origen,destino,color,peso):\n",
    "        self.origen=origen\n",
    "        self.destino=destino\n",
    "        self.color=color\n",
    "        self.peso=peso\n",
    "        \n",
    "def ordena(l):\n",
    "    for c in range(1,len(l)):\n",
    "        for x in range(len(l)-1):\n",
    "            if l[x].peso>l[x+1].peso:\n",
    "                aux=l[x]\n",
    "                l[x]=l[x+1]\n",
    "                l[x+1]=aux\n",
    "\n",
    "        \n",
    "def OrderEdge(g):\n",
    "    lis=[]\n",
    "    repetido=[]\n",
    "    for u in graph:\n",
    "        origen=u\n",
    "        for v in graph[u]:\n",
    "            destino=v\n",
    "            for x in g[u][v]:\n",
    "                if(x=='R' or x=='B'):\n",
    "                    color=x\n",
    "                else:\n",
    "                    peso=x\n",
    "            if(not destino in repetido):        \n",
    "                a=arista(origen,destino,color,peso)\n",
    "                lis.append(a)\n",
    "        repetido.append(origen)\n",
    "    ordena(lis)\n",
    "    return lis"
   ]
  },
  {
   "cell_type": "markdown",
   "metadata": {},
   "source": [
    "Se halla el MST"
   ]
  },
  {
   "cell_type": "code",
   "execution_count": 4,
   "metadata": {
    "collapsed": true
   },
   "outputs": [],
   "source": [
    "def MST(lista,k,n):\n",
    "    azules=k\n",
    "    rojas=n-k-1\n",
    "    cazul=0\n",
    "    croja=0\n",
    "    res=[]\n",
    "    valor=0\n",
    "    print(\"K:\",k)\n",
    "    print(\"n-k-1:\",rojas)\n",
    "    for i in lista:\n",
    "        introducir=False\n",
    "        if(i.color=='R'):\n",
    "            if(croja<rojas):\n",
    "                introducir=True\n",
    "                croja=croja+1\n",
    "        elif(i.color=='B'):\n",
    "            if(cazul<azules):\n",
    "                introducir=True\n",
    "                cazul=cazul+1\n",
    "        if(introducir):\n",
    "            arbol={i.origen:{i.destino: i.color}}\n",
    "            res.append(arbol)\n",
    "            valor=valor+i.peso\n",
    "    print(\"Peso: \",valor)\n",
    "    print(\"Aristas Azules: \",cazul)\n",
    "    print(\"Aristas Rojas: \",crojo)\n",
    "    return res;"
   ]
  },
  {
   "cell_type": "code",
   "execution_count": 7,
   "metadata": {
    "collapsed": false
   },
   "outputs": [
    {
     "ename": "ValueError",
     "evalue": "invalid literal for int() with base 10: 'Inf Inf 5'",
     "output_type": "error",
     "traceback": [
      "\u001b[0;31m---------------------------------------------------------------------------\u001b[0m",
      "\u001b[0;31mValueError\u001b[0m                                Traceback (most recent call last)",
      "\u001b[0;32m<ipython-input-7-ab0f9670f8db>\u001b[0m in \u001b[0;36m<module>\u001b[0;34m()\u001b[0m\n\u001b[0;32m----> 1\u001b[0;31m \u001b[0mg\u001b[0m\u001b[1;33m,\u001b[0m\u001b[0mnod\u001b[0m\u001b[1;33m,\u001b[0m\u001b[0mcolor\u001b[0m\u001b[1;33m=\u001b[0m\u001b[0mabrirArchivo\u001b[0m\u001b[1;33m(\u001b[0m\u001b[1;34m\"input_n8_b5_r2\"\u001b[0m\u001b[1;33m)\u001b[0m\u001b[1;33m\u001b[0m\u001b[0m\n\u001b[0m\u001b[1;32m      2\u001b[0m \u001b[0maristas\u001b[0m\u001b[1;33m=\u001b[0m\u001b[0mOrderEdge\u001b[0m\u001b[1;33m(\u001b[0m\u001b[0mg\u001b[0m\u001b[1;33m)\u001b[0m\u001b[1;33m\u001b[0m\u001b[0m\n\u001b[1;32m      3\u001b[0m \u001b[1;32mprint\u001b[0m \u001b[1;33m(\u001b[0m\u001b[0mMST\u001b[0m\u001b[1;33m(\u001b[0m\u001b[0maristas\u001b[0m\u001b[1;33m,\u001b[0m\u001b[0mcolor\u001b[0m\u001b[1;33m,\u001b[0m\u001b[0mnod\u001b[0m\u001b[1;33m)\u001b[0m\u001b[1;33m)\u001b[0m\u001b[1;33m\u001b[0m\u001b[0m\n",
      "\u001b[0;32m<ipython-input-6-d465187c2e28>\u001b[0m in \u001b[0;36mabrirArchivo\u001b[0;34m(nom)\u001b[0m\n\u001b[1;32m     13\u001b[0m                 \u001b[0mtokens\u001b[0m \u001b[1;33m=\u001b[0m \u001b[0mj\u001b[0m\u001b[1;33m.\u001b[0m\u001b[0msplit\u001b[0m\u001b[1;33m(\u001b[0m\u001b[1;34m'/'\u001b[0m\u001b[1;33m,\u001b[0m\u001b[1;36m1\u001b[0m\u001b[1;33m)\u001b[0m\u001b[1;33m\u001b[0m\u001b[0m\n\u001b[1;32m     14\u001b[0m                 \u001b[0mu\u001b[0m \u001b[1;33m=\u001b[0m \u001b[1;33m(\u001b[0m\u001b[1;33m(\u001b[0m\u001b[0mi\u001b[0m \u001b[1;33m*\u001b[0m \u001b[1;33m-\u001b[0m\u001b[1;36m1\u001b[0m\u001b[1;33m)\u001b[0m \u001b[1;33m-\u001b[0m \u001b[1;36m1\u001b[0m\u001b[1;33m)\u001b[0m\u001b[1;33m\u001b[0m\u001b[0m\n\u001b[0;32m---> 15\u001b[0;31m                 \u001b[0mL\u001b[0m\u001b[1;33m.\u001b[0m\u001b[0mappend\u001b[0m\u001b[1;33m(\u001b[0m\u001b[1;33m(\u001b[0m\u001b[0mu\u001b[0m\u001b[1;33m,\u001b[0m\u001b[0mq\u001b[0m\u001b[1;33m,\u001b[0m \u001b[0mint\u001b[0m\u001b[1;33m(\u001b[0m\u001b[0mtokens\u001b[0m\u001b[1;33m[\u001b[0m\u001b[1;36m0\u001b[0m\u001b[1;33m]\u001b[0m\u001b[1;33m)\u001b[0m \u001b[1;33m,\u001b[0m \u001b[0mtokens\u001b[0m\u001b[1;33m[\u001b[0m\u001b[1;36m1\u001b[0m\u001b[1;33m]\u001b[0m\u001b[1;33m)\u001b[0m\u001b[1;33m)\u001b[0m\u001b[1;33m\u001b[0m\u001b[0m\n\u001b[0m\u001b[1;32m     16\u001b[0m             \u001b[0mq\u001b[0m\u001b[1;33m+=\u001b[0m\u001b[1;36m1\u001b[0m\u001b[1;33m\u001b[0m\u001b[0m\n\u001b[1;32m     17\u001b[0m     \u001b[1;32mreturn\u001b[0m \u001b[0mN\u001b[0m\u001b[1;33m,\u001b[0m \u001b[0mK\u001b[0m\u001b[1;33m,\u001b[0m \u001b[0mL\u001b[0m\u001b[1;33m\u001b[0m\u001b[0m\n",
      "\u001b[0;31mValueError\u001b[0m: invalid literal for int() with base 10: 'Inf Inf 5'"
     ]
    }
   ],
   "source": [
    "g,nod,color=abrirArchivo(\"input_n8_b5_r2\")\n",
    "aristas=OrderEdge(g)\n",
    "print (MST(aristas,color,nod))"
   ]
  },
  {
   "cell_type": "code",
   "execution_count": null,
   "metadata": {
    "collapsed": false
   },
   "outputs": [],
   "source": [
    "g,nod,color=abrirArchivo(\"input_n8_b4_r3\")\n",
    "aristas=OrderEdge(g)\n",
    "print (MST(aristas,color,nod))"
   ]
  },
  {
   "cell_type": "code",
   "execution_count": null,
   "metadata": {
    "collapsed": true
   },
   "outputs": [],
   "source": []
  }
 ],
 "metadata": {
  "kernelspec": {
   "display_name": "Python 2",
   "language": "python",
   "name": "python2"
  },
  "language_info": {
   "codemirror_mode": {
    "name": "ipython",
    "version": 2
   },
   "file_extension": ".py",
   "mimetype": "text/x-python",
   "name": "python",
   "nbconvert_exporter": "python",
   "pygments_lexer": "ipython2",
   "version": "2.7.13"
  }
 },
 "nbformat": 4,
 "nbformat_minor": 2
}
