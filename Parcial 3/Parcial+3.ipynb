{
 "cells": [
  {
   "cell_type": "markdown",
   "metadata": {},
   "source": [
    "<h4>Joaquin Suarez - Tercer Parcial</h4> "
   ]
  },
  {
   "cell_type": "code",
   "execution_count": 1,
   "metadata": {
    "collapsed": true
   },
   "outputs": [],
   "source": [
    "import numpy as np\n",
    "import math\n",
    "from matplotlib import pyplot as plt\n",
    "from matplotlib.path import Path\n",
    "from matplotlib.patches import PathPatch"
   ]
  },
  {
   "cell_type": "code",
   "execution_count": 5,
   "metadata": {
    "collapsed": true
   },
   "outputs": [],
   "source": [
    "def colineales(x,y):\n",
    "    n = len(x)\n",
    "    faltantes = []\n",
    "    pares = []\n",
    "    p = []\n",
    "    colineales = False;\n",
    "    for i in range(n):\n",
    "        coord_x_1 = x[i]\n",
    "        coord_y_1 = y[i]\n",
    "        p.append((coord_x_1,coord_y_1))\n",
    "        j=i\n",
    "        for j  in range(n):\n",
    "            coord_x_2 = x[j]\n",
    "            coord_y_2 = y[j]\n",
    "            par = (coord_x_2,coord_y_2)\n",
    "            pares3 = (coord_x_1,coord_y_1)\n",
    "            if coord_x_2-coord_x_1 != 0 :\n",
    "                faltante = float((coord_y_2-coord_y_1)/(coord_x_2-coord_x_1))\n",
    "                pares2 = (pares3,par)\n",
    "                pares.append(pares2)\n",
    "                faltantes.append(faltante)\n",
    "            else:\n",
    "                if coord_x_2 == coord_x_1 and coord_y_2 != coord_y_1:\n",
    "                    faltante = 1000\n",
    "                    pares2 = (pares3,par)\n",
    "                    tuplas.append(pares2)\n",
    "                    faltantes.append(faltante)\n",
    "                \n",
    "    x = 0;\n",
    "    for a,b in pares:    \n",
    "        for i in range(n): \n",
    "            if a != p[i] and b!= p[i]:\n",
    "                if p[i][0] != a[0] and p[i][0] - b[0]: \n",
    "                    faltantes2 = float((p[i][1] - b[1])/(p[i][0] - b[0]))\n",
    "                elif p[i][0] == a[0]:\n",
    "                    faltantes2 = 1000\n",
    "                    \n",
    "                if faltantes2 == faltantes[x]:\n",
    "                            colineales = True\n",
    "                \n",
    "        x = x + 1\n",
    "    \n",
    "    print colineales"
   ]
  },
  {
   "cell_type": "code",
   "execution_count": 6,
   "metadata": {
    "collapsed": false
   },
   "outputs": [
    {
     "name": "stdout",
     "output_type": "stream",
     "text": [
      "[ 0.59302676  0.60735445  0.51958843  0.45143052  0.75199129  0.70142448\n",
      "  0.90377447  0.91799042  0.53191958  0.5645648 ]\n",
      "[  7.00359281e-01   7.16361776e-01   7.39412002e-02   4.23188716e-01\n",
      "   6.39785793e-01   1.27505930e-01   8.13996970e-01   4.90633378e-02\n",
      "   5.03520014e-01   7.36939509e-04]\n",
      "False\n"
     ]
    }
   ],
   "source": [
    "x = np.random.random([10])\n",
    "y = np.random.random([10])\n",
    "\n",
    "print x\n",
    "print y\n",
    "colineales(x,y)"
   ]
  },
  {
   "cell_type": "code",
   "execution_count": 8,
   "metadata": {
    "collapsed": false
   },
   "outputs": [
    {
     "name": "stdout",
     "output_type": "stream",
     "text": [
      "[5, 10, 15, 20, 25]\n",
      "[5, 6, 7, 20, 25]\n",
      "True\n"
     ]
    }
   ],
   "source": [
    "x = [5,10,15,20,25]\n",
    "y= [5,6,7,20,25]\n",
    "\n",
    "print x\n",
    "print y\n",
    "colineales(x,y)"
   ]
  },
  {
   "cell_type": "markdown",
   "metadata": {},
   "source": [
    "<h4>Punto 2</h4>"
   ]
  },
  {
   "cell_type": "code",
   "execution_count": 16,
   "metadata": {
    "collapsed": true
   },
   "outputs": [],
   "source": [
    "def poligonoSimple(primero, ultimo):\n",
    "    \n",
    "    x1, y1 = primero\n",
    "    x2, y2 = ultimo\n",
    "    \n",
    "    difx = x2 - x1\n",
    "    dify = y2 - y1\n",
    " \n",
    "    # Valores absolutos de los números\n",
    "    is_steep = abs(dify) > abs(difx)\n",
    " \n",
    "    # Rotación de Linea\n",
    "    if is_steep:\n",
    "        x1, y1 = y1, x1\n",
    "        x2, y2 = y2, x2\n",
    " \n",
    "    \n",
    "    swap = False\n",
    "    if x1 > x2:\n",
    "        x1, x2 = x2, x1\n",
    "        y1, y2 = y2, y1\n",
    "        swap = True\n",
    " \n",
    "    difx = x2 - x1\n",
    "    dify = y2 - y1\n",
    " \n",
    "    e = int(difx / 2.0)\n",
    "    ypaso = 1 if y1 < y2 else -1\n",
    " \n",
    "    y = y1\n",
    "    p = []\n",
    "    for x in range(x1, x2 + 1):\n",
    "        c = (y, x) if is_steep else (x, y)\n",
    "        p.append(c)\n",
    "        e -= abs(dify)\n",
    "        if e < 0:\n",
    "            y += ypaso\n",
    "            e += difx\n",
    "    poligon = False\n",
    "    if swap:\n",
    "        p.reverse()\n",
    "        if not p:\n",
    "            print \"Poligono Simple\"\n",
    "            poligon = True\n",
    "    return p, \"Poligono Simple: \",poligon"
   ]
  },
  {
   "cell_type": "code",
   "execution_count": 19,
   "metadata": {
    "collapsed": false
   },
   "outputs": [
    {
     "data": {
      "text/plain": [
       "([(1, 10), (2, 10), (3, 9), (4, 9), (5, 8), (6, 8)],\n",
       " 'Poligono Simple: ',\n",
       " False)"
      ]
     },
     "execution_count": 19,
     "metadata": {},
     "output_type": "execute_result"
    }
   ],
   "source": [
    "poligonoSimple((1,10),(6,8))"
   ]
  },
  {
   "cell_type": "code",
   "execution_count": null,
   "metadata": {
    "collapsed": true
   },
   "outputs": [],
   "source": []
  }
 ],
 "metadata": {
  "kernelspec": {
   "display_name": "Python 2",
   "language": "python",
   "name": "python2"
  },
  "language_info": {
   "codemirror_mode": {
    "name": "ipython",
    "version": 2
   },
   "file_extension": ".py",
   "mimetype": "text/x-python",
   "name": "python",
   "nbconvert_exporter": "python",
   "pygments_lexer": "ipython2",
   "version": "2.7.13"
  }
 },
 "nbformat": 4,
 "nbformat_minor": 2
}
