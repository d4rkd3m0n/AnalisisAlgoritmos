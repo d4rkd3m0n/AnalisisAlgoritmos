{
 "cells": [
  {
   "cell_type": "markdown",
   "metadata": {},
   "source": [
    "<h4>Joaquin Suarez Taller 4</h4>"
   ]
  },
  {
   "cell_type": "markdown",
   "metadata": {},
   "source": [
    "<h5> Punto 1</h5>"
   ]
  },
  {
   "cell_type": "code",
   "execution_count": null,
   "metadata": {
    "collapsed": true
   },
   "outputs": [],
   "source": [
    "import unicodedata"
   ]
  },
  {
   "cell_type": "code",
   "execution_count": 15,
   "metadata": {
    "collapsed": false
   },
   "outputs": [],
   "source": [
    "def LCS(X, Y):\n",
    "    m = len(X)\n",
    "    n = len(Y)\n",
    "    C = [[0] * (n+1) for i in range(m+1)] \n",
    "    B = [[0] * (n+1) for i in range(m+1)] \n",
    "    for i in range(1, m+1):\n",
    "        for j in range(1, n+1):\n",
    "            if X[i-1] == Y[j-1]:\n",
    "                C[i][j] = C[i-1][j-1] + 1\n",
    "                B[i][j] = u'\\u2196'\n",
    "            else:\n",
    "                C[i][j] = max(C[i][j-1], C[i-1][j])\n",
    "            if C[i-1][j] > C[i][j-1]:\n",
    "                B[i][j] = u'\\u2191'\n",
    "            else:\n",
    "                B[i][j] = u'\\u2190'\n",
    "            return B, C"
   ]
  },
  {
   "cell_type": "code",
   "execution_count": 17,
   "metadata": {
    "collapsed": false
   },
   "outputs": [
    {
     "name": "stdout",
     "output_type": "stream",
     "text": [
      "([[0, 0, 0, 0, 0, 0, 0, 0, 0, 0, 0], [0, u'\\u2190', 0, 0, 0, 0, 0, 0, 0, 0, 0], [0, 0, 0, 0, 0, 0, 0, 0, 0, 0, 0], [0, 0, 0, 0, 0, 0, 0, 0, 0, 0, 0], [0, 0, 0, 0, 0, 0, 0, 0, 0, 0, 0], [0, 0, 0, 0, 0, 0, 0, 0, 0, 0, 0], [0, 0, 0, 0, 0, 0, 0, 0, 0, 0, 0], [0, 0, 0, 0, 0, 0, 0, 0, 0, 0, 0], [0, 0, 0, 0, 0, 0, 0, 0, 0, 0, 0], [0, 0, 0, 0, 0, 0, 0, 0, 0, 0, 0], [0, 0, 0, 0, 0, 0, 0, 0, 0, 0, 0]], [[0, 0, 0, 0, 0, 0, 0, 0, 0, 0, 0], [0, 0, 0, 0, 0, 0, 0, 0, 0, 0, 0], [0, 0, 0, 0, 0, 0, 0, 0, 0, 0, 0], [0, 0, 0, 0, 0, 0, 0, 0, 0, 0, 0], [0, 0, 0, 0, 0, 0, 0, 0, 0, 0, 0], [0, 0, 0, 0, 0, 0, 0, 0, 0, 0, 0], [0, 0, 0, 0, 0, 0, 0, 0, 0, 0, 0], [0, 0, 0, 0, 0, 0, 0, 0, 0, 0, 0], [0, 0, 0, 0, 0, 0, 0, 0, 0, 0, 0], [0, 0, 0, 0, 0, 0, 0, 0, 0, 0, 0], [0, 0, 0, 0, 0, 0, 0, 0, 0, 0, 0]])\n"
     ]
    }
   ],
   "source": [
    "p1=\"TTTCGTTTYM\"\n",
    "\n",
    "p2=\"CCTYYTTTMC\"\n",
    "\n",
    "print LCS(p1,p2)"
   ]
  },
  {
   "cell_type": "code",
   "execution_count": null,
   "metadata": {
    "collapsed": true
   },
   "outputs": [],
   "source": []
  },
  {
   "cell_type": "markdown",
   "metadata": {},
   "source": [
    "<h5>Punto 3</h5>"
   ]
  },
  {
   "cell_type": "code",
   "execution_count": 10,
   "metadata": {
    "collapsed": false
   },
   "outputs": [],
   "source": [
    "\n",
    "def distancia(w1,w2):\n",
    "    \n",
    "    len_1=len(word1)\n",
    "\n",
    "    len_2=len(word2)\n",
    "\n",
    "    x =[[0]*(len_2+1) for _ in range(len_1+1)]#the matrix whose last element ->edit distance\n",
    "\n",
    "    for i in range(0,len_1+1): #initialization of base case values\n",
    "\n",
    "        x[i][0]=i\n",
    "    for j in range(0,len_2+1):\n",
    "\n",
    "        x[0][j]=j\n",
    "    for i in range (1,len_1+1):\n",
    "\n",
    "        for j in range(1,len_2+1):\n",
    "\n",
    "            if word1[i-1]==word2[j-1]:\n",
    "                x[i][j] = x[i-1][j-1] \n",
    "\n",
    "            else :\n",
    "                x[i][j]= min(x[i][j-1],x[i-1][j],x[i-1][j-1])+1\n",
    "\n",
    "    return x[i][j]"
   ]
  },
  {
   "cell_type": "code",
   "execution_count": 11,
   "metadata": {
    "collapsed": false
   },
   "outputs": [
    {
     "name": "stdout",
     "output_type": "stream",
     "text": [
      "3\n"
     ]
    }
   ],
   "source": [
    "p1=\"holamundo\"\n",
    "\n",
    "p2=\"holemonda\"\n",
    "\n",
    "print distancia(p1,p2)"
   ]
  },
  {
   "cell_type": "code",
   "execution_count": null,
   "metadata": {
    "collapsed": true
   },
   "outputs": [],
   "source": []
  }
 ],
 "metadata": {
  "kernelspec": {
   "display_name": "Python 2",
   "language": "python",
   "name": "python2"
  },
  "language_info": {
   "codemirror_mode": {
    "name": "ipython",
    "version": 2
   },
   "file_extension": ".py",
   "mimetype": "text/x-python",
   "name": "python",
   "nbconvert_exporter": "python",
   "pygments_lexer": "ipython2",
   "version": "2.7.13"
  }
 },
 "nbformat": 4,
 "nbformat_minor": 2
}
