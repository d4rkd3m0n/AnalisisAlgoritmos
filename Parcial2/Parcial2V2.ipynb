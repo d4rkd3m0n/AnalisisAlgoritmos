{
 "cells": [
  {
   "cell_type": "markdown",
   "metadata": {},
   "source": [
    "<h4> Joaquin Suarez </h4>"
   ]
  },
  {
   "cell_type": "markdown",
   "metadata": {},
   "source": [
    "<h5>Punto 6</h5>"
   ]
  },
  {
   "cell_type": "code",
   "execution_count": 1,
   "metadata": {
    "collapsed": true
   },
   "outputs": [],
   "source": [
    "def distance(str1, str2):\n",
    "  d=dict()\n",
    "  for i in range(len(str1)+1):\n",
    "     d[i]=dict()\n",
    "     d[i][0]=i\n",
    "  for i in range(len(str2)+1):\n",
    "     d[0][i] = i\n",
    "  for i in range(1, len(str1)+1):\n",
    "     for j in range(1, len(str2)+1):\n",
    "        d[i][j] = min(d[i][j-1]+1, d[i-1][j]+1, d[i-1][j-1]+(not str1[i-1] == str2[j-1]))\n",
    "  return d[len(str1)][len(str2)]"
   ]
  },
  {
   "cell_type": "code",
   "execution_count": 4,
   "metadata": {
    "collapsed": false
   },
   "outputs": [
    {
     "name": "stdout",
     "output_type": "stream",
     "text": [
      "16\n"
     ]
    }
   ],
   "source": [
    "print distance('software engineering','computer science')"
   ]
  },
  {
   "cell_type": "markdown",
   "metadata": {},
   "source": [
    "<h5>Punto 1</h5>"
   ]
  },
  {
   "cell_type": "markdown",
   "metadata": {},
   "source": [
    "<table >\n",
    "  <tr>\n",
    "    <th>Operacion</th>\n",
    "    <th>z</th> \n",
    "    <th>Costo</th>\n",
    "    <th>Total</th>\n",
    "  </tr>\n",
    "  <tr>\n",
    "    <td>Inicializacion </td>\n",
    "    <td>algorithm</td> \n",
    "    <td>0</td>\n",
    "    <td>0</td>\n",
    "  </tr>\n",
    "  <tr>\n",
    "    <td>derecha </td>\n",
    "    <td>algorithm</td> \n",
    "    <td>0</td>\n",
    "    <td>0</td>\n",
    "  </tr>\n",
    "  <tr>\n",
    "    <td>derecha </td>\n",
    "    <td>algorithm</td> \n",
    "    <td>0</td>\n",
    "    <td>0</td>\n",
    "  </tr>\n",
    "  <tr>\n",
    "    <td>reemplazar (por n) </td>\n",
    "    <td>angorithm</td> \n",
    "    <td>4</td>\n",
    "    <td>4</td>\n",
    "  </tr>\n",
    "  <tr>\n",
    "    <td>reemplazar (por a) </td>\n",
    "    <td>anaorithm</td> \n",
    "    <td>4</td>\n",
    "    <td>8</td>\n",
    "  </tr>\n",
    "<tr>\n",
    "    <td>reemplazar (por l) </td>\n",
    "    <td>analrithm</td> \n",
    "    <td>4</td>\n",
    "    <td>12</td>\n",
    "  </tr>\n",
    "<tr>\n",
    "    <td>Reemplazar (por y) </td>\n",
    "    <td>analyithm</td> \n",
    "    <td>4</td>\n",
    "    <td>16</td>\n",
    "  </tr>\n",
    "<tr>\n",
    "    <td>Insertar s </td>\n",
    "    <td>analysithm</td> \n",
    "    <td>3</td>\n",
    "    <td>19</td>\n",
    "  </tr>\n",
    "<tr>\n",
    "    <td>derecha </td>\n",
    "    <td>analysithm</td> \n",
    "    <td>0</td>\n",
    "    <td>19</td>\n",
    "  </tr>\n",
    "<tr>\n",
    "    <td>Insertar s </td>\n",
    "    <td>analysithm</td> \n",
    "    <td>3</td>\n",
    "    <td>22</td>\n",
    "  </tr>\n",
    "<tr>\n",
    "    <td>eliminar </td>\n",
    "    <td>analysithm</td> \n",
    "    <td>2</td>\n",
    "    <td>24</td>\n",
    "  </tr>\n",
    "<tr>\n",
    "    <td>eliminar </td>\n",
    "    <td>analysishm</td> \n",
    "    <td>2</td>\n",
    "    <td>26</td>\n",
    "  </tr>\n",
    "<tr>\n",
    "    <td>eliminar </td>\n",
    "    <td>analysishm</td> \n",
    "    <td>2</td>\n",
    "    <td>28</td>\n",
    "  </tr>\n",
    "</table>"
   ]
  },
  {
   "cell_type": "markdown",
   "metadata": {},
   "source": [
    "<h5>Punto 2</h5>"
   ]
  },
  {
   "cell_type": "markdown",
   "metadata": {},
   "source": [
    "Se puede probar por contradiccion \n",
    "Consideremos una secuencia S' que transforma x a y con costo d(x,y) que usa operaciones izquierda. Considere los caracteres insertados en S'.\n",
    "si un caracter es insertado y luego borrado entonces las operaciones pueden ser eliminadas de S', creando una secuencia S'' que da el mismo resultado a costo menor. Asi todos los caracteres ingresados y reemplazados nunca son cambiados despues de realizar la insercion o reemplazo. Notamos que luego de quitar estas operaciones que introducen dependencias, cualquier secuencia de insertar, borrar o reemplazar pueden ser reeordenadas para que ocurran de izquierda a derecha sin afectar la salida de la transformacion.\n"
   ]
  },
  {
   "cell_type": "markdown",
   "metadata": {},
   "source": [
    "<h5>Punto 3</h5>"
   ]
  },
  {
   "cell_type": "markdown",
   "metadata": {},
   "source": [
    "Podemos encontrar la distancia de edicion para las cadenas x y y separandolo en subproblemas y encontrando la distancia para cada uno. Cxy(i,j)=d(x,y[1..i]||x[j+1..m]) es la funcion del costo minimo de transformar los primeros j caracteres de x en los primeros i caracteres de y, ahora consideremos una cadena de operaciones S que transforma x en y con costo C(S)=d(x,y) y sea S_i una subsecuencia de S que contiene las primeras i operaciones de S. Considere Z_i como el string auxiliar despues de realizar las operaciones S_i donde Z_0= x y Z_k=y.\n",
    "\n",
    "<br/>\n",
    "<br/>\n",
    "Si C(S_i)=d(x,z_i) entonces C(S_i-1)=d(x,Z_i-1), por lo tanto la solucion optima para d(x,z_i) con tiene la solucion optima para los subproblemas d(x,Z_i-1) "
   ]
  },
  {
   "cell_type": "markdown",
   "metadata": {},
   "source": [
    "<h5>Punto 4</h5>"
   ]
  },
  {
   "cell_type": "markdown",
   "metadata": {},
   "source": [
    "Usando la definicion de C_xy(i,j). solo se deben tomar en cuenta las operaciones de derecha, reemplazar, borrar e insertar, ya que en el primer punto "
   ]
  },
  {
   "cell_type": "markdown",
   "metadata": {},
   "source": [
    "<h5>Punto 5</h5>"
   ]
  },
  {
   "cell_type": "markdown",
   "metadata": {},
   "source": [
    "str1 y str2 son cadenas ingresadas por parametro <br/>\n",
    "distancia de edicion ( str1[1..lenStr1], str2[1..lenStr2]) // d es una tabla con lenStr1+1 filas y lenStr2+1 columnas <br/> d[0..lenStr1, 0..lenStr2]  <br/>\n",
    "// i y j son usados para iterar str1 y str2 <br/>\n",
    "se declaran las variables i, j, costo <br/>\n",
    "para i desde 0 a lenStr1  <br/>\n",
    "d[i, 0] := i  <br/>\n",
    "para j desde 0 a lenStr2  <br/>\n",
    "d[0, j] := j <br/>\n",
    "para i desde 1 a lenStr1  <br/>\n",
    "    para j desde 1 a lenStr2  <br/>\n",
    "        si str1[i-1] es igual a str2[j-1]  <br/>\n",
    "        entonces costo := 0 <br/>\n",
    "        si no costo := 1 <br/>\n",
    "        d[i, j] := minimo( d[i-1, j] + 1, // borrado <br/>\n",
    "        d[i, j-1] + 1, // insercion <br/>\n",
    "        d[i-1, j-1] + cost // sustitucion ) <br/>\n",
    "        \n",
    "retornar d[lenStr1, lenStr2] <br/>"
   ]
  },
  {
   "cell_type": "markdown",
   "metadata": {},
   "source": [
    "El tiempo de ejecucion del algoritmo es O(mn) y requiere un espacio de O(mn) "
   ]
  },
  {
   "cell_type": "markdown",
   "metadata": {},
   "source": [
    "<h5>Punto 7</h5>"
   ]
  },
  {
   "cell_type": "code",
   "execution_count": 7,
   "metadata": {
    "collapsed": true
   },
   "outputs": [],
   "source": [
    "def distance(str1, str2):\n",
    "  d=dict()\n",
    "  for i in range(len(str1)+1):\n",
    "     d[i]=dict()\n",
    "     d[i][0]=i\n",
    "  for i in range(len(str2)+1):\n",
    "     d[0][i] = i\n",
    "  for i in range(1, len(str1)+1):\n",
    "     for j in range(1, len(str2)+1):\n",
    "        d[i][j] = min(d[i][j-1]+1, d[i-1][j]+1, d[i-1][j-1]+(not str1[i-1] == str2[j-1]))\n",
    "  return d[len(str1)][len(str2)]"
   ]
  },
  {
   "cell_type": "code",
   "execution_count": 9,
   "metadata": {
    "collapsed": false
   },
   "outputs": [
    {
     "name": "stdout",
     "output_type": "stream",
     "text": [
      "535\n",
      "554\n",
      "551\n"
     ]
    }
   ],
   "source": [
    "print distance(\"In fairy-tales, witches always wear silly black hats and black cloaks, and they ride on broomsticks.  But this is not a fairy-tale. This is about Real Witches.  The most important thing you should know about Real Witches is this.  Listen very carefully.  Never forget what is coming next.  Real Witches dress in ordinary clothes and look very much like ordinary women. They live in ordinary houses and work in Ordinary Jobs.  That is why they are so hard to catch.  A Real Witch hates children with a red-hot sizzling hatred that is more sizzling and red-hot than any hatred you could possibly imagine.\",\"Round about the caldron go; In the poison'd entrails throw.  Toad, that under cold stone, Days and nights has thirty-one; Swelter'd venom sleeping got, Boil thou first i' the charmed pot!  Double, double toil and trouble; Fire burn, and cauldron bubble.  Fillet of a fenny snake, In the caldron boil and bake; Eye of newt, and toe of frog, Wool of bat, and tongue of dog; Adder's fork, and blind-worm's sting, Lizard's leg, and howlet's wing; For a charm of pow'rful trouble, Like a hell-broth boil and bubble.  Double, double toil and trouble; Fire burn, and cauldron bubble.  Scale of dragon, tooth of wolf, Witches' mummy, maw and gulf Of the ravin'd salt-sea shark; Root of hemlock digg'd i' the dark.\")\n",
    "print distance(\"Macavity, Macavity, there's no one like Macavity, He's broken every  human law, he breaks the law of gravity.  His powers of levitation  would make a fakir stare, And when you reach the scene of crime -  Macavity's not there!  You may seek him in the basement, you may look  up in the air - But I tell you once and once again, Macavity's not there!  Macavity's a ginger cat, he's very tall and thin; You would know him if you saw him, for his eyes are sunken in.  His brow is deeply lined with thought, his head is highly domed; His coat is dusty from neglect, his whiskers are uncombed.  He sways his head from side to side, with movements like a snake; And when you think he's half asleep, he's always wide awake.\",\"`Please would you tell me,' said Alice, a little timidly, for she was not quite sure whether it was good manners for her to speak first, `why your cat grins like that?' `It's a Cheshire cat,' said the Duchess, `and that's why. Pig!'  She said the last word with such sudden violence that Alice quite jumped; but she saw in another moment that it was addressed to the baby, and not to her, so she took courage, and went on again:  `I didn't know that Cheshire cats always grinned; in fact, I didn't know that cats could grin.'  `They all can,' said the Duchess; `and most of 'em do.'  `I don't know of any that do,' Alice said very politely, feeling quite pleased to have got into a conversation.\")\n",
    "print distance(\"Old MacDonald had a farm, Ee i ee i o.  And on his farm he had some chicks, Ee i ee i o.  With a cluck-cluck here and a cluck-cluck there.  Here a cluck, there a cluck everywhere a cluck-cluck. Old MacDonald had a farm, Ee i ee i o.  Old MacDonald had a farm, Ee i ee i o.  And on his farm he had some cows, Ee i ee i o.  With a moo-moo here and a moo-moo there.  Here a moo, there a moo everywhere a moo-moo.  Old MacDonald had a farm, Ee i ee i o.\",\"At one end of the big barn, on a sort of raised platform, Major was already ensconced on his bed of straw, under a lantern which hung from a beam. He was twelve years old and had lately grown rather stout, but he was still a majestic-looking pig, with a wise and benevolent appearance in spite of the fact that his tushes had never been cut.  Before long the other animals began to arrive and make themselves comfortable after their different fashions.  First came the three dogs, Bluebell, Jessie, and Pincher, and then the pigs, who settled down in the straw immediately in front of the platform.  The hens perched themselves on the window-sills, the pigeons fluttered up to the rafters, the sheep and cows lay down behind the pigs and began to chew the cud.\")"
   ]
  },
  {
   "cell_type": "code",
   "execution_count": null,
   "metadata": {
    "collapsed": true
   },
   "outputs": [],
   "source": []
  }
 ],
 "metadata": {
  "anaconda-cloud": {},
  "celltoolbar": "Raw Cell Format",
  "kernelspec": {
   "display_name": "Python [default]",
   "language": "python",
   "name": "python2"
  },
  "language_info": {
   "codemirror_mode": {
    "name": "ipython",
    "version": 2
   },
   "file_extension": ".py",
   "mimetype": "text/x-python",
   "name": "python",
   "nbconvert_exporter": "python",
   "pygments_lexer": "ipython2",
   "version": "2.7.12"
  }
 },
 "nbformat": 4,
 "nbformat_minor": 2
}
