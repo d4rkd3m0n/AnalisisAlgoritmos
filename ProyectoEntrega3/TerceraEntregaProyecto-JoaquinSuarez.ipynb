{
 "cells": [
  {
   "cell_type": "markdown",
   "metadata": {},
   "source": [
    "<h4>Tercera entrega - Joaquin Suarez</h4>"
   ]
  },
  {
   "cell_type": "markdown",
   "metadata": {},
   "source": [
    "<h5>Problema 1 MST</h5>"
   ]
  },
  {
   "cell_type": "markdown",
   "metadata": {},
   "source": [
    "(MST). Dado un grafo G = (V, E) con n vertices y m aristas. (El grafo podría representar una red telefónica). Cada arista es coloreada azul o roja. Tambien esta dado un parámetro k como parte de la entrada. Proponga un algoritmo que encuentre un árbol de expansión sobre G con exactamente k aristas azules, y exactamente n-k-1 aristas rojas. Determine el tiempo de ejecución del algoritmo y muestre que es correcto."
   ]
  },
  {
   "cell_type": "markdown",
   "metadata": {},
   "source": [
    "Para empezar se ordenan las aristas del grafo en una lista, con esta lista procedemos a crear el arbol de minima expansion "
   ]
  },
  {
   "cell_type": "code",
   "execution_count": 3,
   "metadata": {
    "collapsed": true
   },
   "outputs": [],
   "source": [
    "import networkx\n",
    "import itertools\n",
    "import logging\n",
    "import time\n",
    "import math\n",
    "import numpy as np\n",
    "import pylab as pl"
   ]
  },
  {
   "cell_type": "code",
   "execution_count": 6,
   "metadata": {
    "collapsed": true
   },
   "outputs": [],
   "source": [
    "def abrirArchivo(nom):\n",
    "    lines = [line.rstrip(\"\\n\") for line in open(nom)]\n",
    "    N = int(lines[0])\n",
    "    K = int(lines[1])\n",
    "    L = []\n",
    "    i = 0\n",
    "    for l in lines[2:]:\n",
    "        t = l.split(',',N - i)\n",
    "        i -= 1\n",
    "        q = (i * -1) - 1\n",
    "        for j in t:\n",
    "            if(j != 'Inf'):\n",
    "                tokens = j.split('/',1)\n",
    "                u = ((i * -1) - 1)\n",
    "                L.append((u,q, int(tokens[0]) , tokens[1]))\n",
    "            q+=1\n",
    "    return N, K, L"
   ]
  },
  {
   "cell_type": "markdown",
   "metadata": {},
   "source": [
    "Luego definimos las clases necesarias"
   ]
  },
  {
   "cell_type": "code",
   "execution_count": 3,
   "metadata": {
    "collapsed": true
   },
   "outputs": [],
   "source": [
    "class arista:\n",
    "    def __init__(self,origen,destino,color,peso):\n",
    "        self.origen=origen\n",
    "        self.destino=destino\n",
    "        self.color=color\n",
    "        self.peso=peso\n",
    "        \n",
    "def ordena(l):\n",
    "    for c in range(1,len(l)):\n",
    "        for x in range(len(l)-1):\n",
    "            if l[x].peso>l[x+1].peso:\n",
    "                aux=l[x]\n",
    "                l[x]=l[x+1]\n",
    "                l[x+1]=aux\n",
    "\n",
    "        \n",
    "def OrderEdge(g):\n",
    "    lis=[]\n",
    "    repetido=[]\n",
    "    for u in graph:\n",
    "        origen=u\n",
    "        for v in graph[u]:\n",
    "            destino=v\n",
    "            for x in g[u][v]:\n",
    "                if(x=='R' or x=='B'):\n",
    "                    color=x\n",
    "                else:\n",
    "                    peso=x\n",
    "            if(not destino in repetido):        \n",
    "                a=arista(origen,destino,color,peso)\n",
    "                lis.append(a)\n",
    "        repetido.append(origen)\n",
    "    ordena(lis)\n",
    "    return lis"
   ]
  },
  {
   "cell_type": "markdown",
   "metadata": {},
   "source": [
    "Se halla el MST"
   ]
  },
  {
   "cell_type": "code",
   "execution_count": 4,
   "metadata": {
    "collapsed": true
   },
   "outputs": [],
   "source": [
    "def MST(lista,k,n):\n",
    "    azules=k\n",
    "    rojas=n-k-1\n",
    "    cazul=0\n",
    "    croja=0\n",
    "    res=[]\n",
    "    valor=0\n",
    "    print(\"K:\",k)\n",
    "    print(\"n-k-1:\",rojas)\n",
    "    for i in lista:\n",
    "        introducir=False\n",
    "        if(i.color=='R'):\n",
    "            if(croja<rojas):\n",
    "                introducir=True\n",
    "                croja=croja+1\n",
    "        elif(i.color=='B'):\n",
    "            if(cazul<azules):\n",
    "                introducir=True\n",
    "                cazul=cazul+1\n",
    "        if(introducir):\n",
    "            arbol={i.origen:{i.destino: i.color}}\n",
    "            res.append(arbol)\n",
    "            valor=valor+i.peso\n",
    "    print(\"Peso: \",valor)\n",
    "    print(\"Aristas Azules: \",cazul)\n",
    "    print(\"Aristas Rojas: \",crojo)\n",
    "    return res;"
   ]
  },
  {
   "cell_type": "code",
   "execution_count": 7,
   "metadata": {
    "collapsed": false
   },
   "outputs": [
    {
     "ename": "ValueError",
     "evalue": "invalid literal for int() with base 10: 'Inf Inf 5'",
     "output_type": "error",
     "traceback": [
      "\u001b[0;31m---------------------------------------------------------------------------\u001b[0m",
      "\u001b[0;31mValueError\u001b[0m                                Traceback (most recent call last)",
      "\u001b[0;32m<ipython-input-7-ab0f9670f8db>\u001b[0m in \u001b[0;36m<module>\u001b[0;34m()\u001b[0m\n\u001b[0;32m----> 1\u001b[0;31m \u001b[0mg\u001b[0m\u001b[1;33m,\u001b[0m\u001b[0mnod\u001b[0m\u001b[1;33m,\u001b[0m\u001b[0mcolor\u001b[0m\u001b[1;33m=\u001b[0m\u001b[0mabrirArchivo\u001b[0m\u001b[1;33m(\u001b[0m\u001b[1;34m\"input_n8_b5_r2\"\u001b[0m\u001b[1;33m)\u001b[0m\u001b[1;33m\u001b[0m\u001b[0m\n\u001b[0m\u001b[1;32m      2\u001b[0m \u001b[0maristas\u001b[0m\u001b[1;33m=\u001b[0m\u001b[0mOrderEdge\u001b[0m\u001b[1;33m(\u001b[0m\u001b[0mg\u001b[0m\u001b[1;33m)\u001b[0m\u001b[1;33m\u001b[0m\u001b[0m\n\u001b[1;32m      3\u001b[0m \u001b[1;32mprint\u001b[0m \u001b[1;33m(\u001b[0m\u001b[0mMST\u001b[0m\u001b[1;33m(\u001b[0m\u001b[0maristas\u001b[0m\u001b[1;33m,\u001b[0m\u001b[0mcolor\u001b[0m\u001b[1;33m,\u001b[0m\u001b[0mnod\u001b[0m\u001b[1;33m)\u001b[0m\u001b[1;33m)\u001b[0m\u001b[1;33m\u001b[0m\u001b[0m\n",
      "\u001b[0;32m<ipython-input-6-d465187c2e28>\u001b[0m in \u001b[0;36mabrirArchivo\u001b[0;34m(nom)\u001b[0m\n\u001b[1;32m     13\u001b[0m                 \u001b[0mtokens\u001b[0m \u001b[1;33m=\u001b[0m \u001b[0mj\u001b[0m\u001b[1;33m.\u001b[0m\u001b[0msplit\u001b[0m\u001b[1;33m(\u001b[0m\u001b[1;34m'/'\u001b[0m\u001b[1;33m,\u001b[0m\u001b[1;36m1\u001b[0m\u001b[1;33m)\u001b[0m\u001b[1;33m\u001b[0m\u001b[0m\n\u001b[1;32m     14\u001b[0m                 \u001b[0mu\u001b[0m \u001b[1;33m=\u001b[0m \u001b[1;33m(\u001b[0m\u001b[1;33m(\u001b[0m\u001b[0mi\u001b[0m \u001b[1;33m*\u001b[0m \u001b[1;33m-\u001b[0m\u001b[1;36m1\u001b[0m\u001b[1;33m)\u001b[0m \u001b[1;33m-\u001b[0m \u001b[1;36m1\u001b[0m\u001b[1;33m)\u001b[0m\u001b[1;33m\u001b[0m\u001b[0m\n\u001b[0;32m---> 15\u001b[0;31m                 \u001b[0mL\u001b[0m\u001b[1;33m.\u001b[0m\u001b[0mappend\u001b[0m\u001b[1;33m(\u001b[0m\u001b[1;33m(\u001b[0m\u001b[0mu\u001b[0m\u001b[1;33m,\u001b[0m\u001b[0mq\u001b[0m\u001b[1;33m,\u001b[0m \u001b[0mint\u001b[0m\u001b[1;33m(\u001b[0m\u001b[0mtokens\u001b[0m\u001b[1;33m[\u001b[0m\u001b[1;36m0\u001b[0m\u001b[1;33m]\u001b[0m\u001b[1;33m)\u001b[0m \u001b[1;33m,\u001b[0m \u001b[0mtokens\u001b[0m\u001b[1;33m[\u001b[0m\u001b[1;36m1\u001b[0m\u001b[1;33m]\u001b[0m\u001b[1;33m)\u001b[0m\u001b[1;33m)\u001b[0m\u001b[1;33m\u001b[0m\u001b[0m\n\u001b[0m\u001b[1;32m     16\u001b[0m             \u001b[0mq\u001b[0m\u001b[1;33m+=\u001b[0m\u001b[1;36m1\u001b[0m\u001b[1;33m\u001b[0m\u001b[0m\n\u001b[1;32m     17\u001b[0m     \u001b[1;32mreturn\u001b[0m \u001b[0mN\u001b[0m\u001b[1;33m,\u001b[0m \u001b[0mK\u001b[0m\u001b[1;33m,\u001b[0m \u001b[0mL\u001b[0m\u001b[1;33m\u001b[0m\u001b[0m\n",
      "\u001b[0;31mValueError\u001b[0m: invalid literal for int() with base 10: 'Inf Inf 5'"
     ]
    }
   ],
   "source": [
    "g,nod,color=abrirArchivo(\"input_n8_b5_r2\")\n",
    "aristas=OrderEdge(g)\n",
    "print (MST(aristas,color,nod))"
   ]
  },
  {
   "cell_type": "code",
   "execution_count": null,
   "metadata": {
    "collapsed": false
   },
   "outputs": [],
   "source": []
  },
  {
   "cell_type": "markdown",
   "metadata": {
    "collapsed": true
   },
   "source": [
    "<h4>Hamming</h4>"
   ]
  },
  {
   "cell_type": "markdown",
   "metadata": {},
   "source": [
    "(Cliques en Grafos). La distancia de Hamming dist(u,v) entre dos vectores binarios v = (v_1 , . . . , v_n ) and w = (w_1 , . . . , w_n ) es el número de índices k tal que v_k \\neq w_k. Una pregunta fundamental en la teoría de la codificación es determinar el número A(n, d) = max |{S ⊂ {0, 1} n | dist(u, v) ≥ d for all distinct u, v ∈ S}|, el máximo número de vectores binarios de longitud n que uno puede encontrar tal que dos vectores diferentes tienen una distancia de Hamming ≥ d.  Por ejemplo, A(5, 4) = 2. \n",
    "\n",
    "El grafo de Hamming H(n, d) = (V, E) es el gráfo con 2^n vertices V dados por cadenas binarias de longitud n. Nosotros tenemos (u, v) ∈ E si y solo si dist(u, v) ≥ d. El número A(n,d) coincide con el tamaño de un clique máximo en H(n,d). Encuentre un algoritmo \"eficiente\"  para calcular el clique máximo en el grafo de Hamming (calcular el clique máximo es un problema NP-difícil)."
   ]
  },
  {
   "cell_type": "markdown",
   "metadata": {},
   "source": [
    "Este algoritmo es tomado de https://gist.github.com/mariaperez/1896793 y se adaptó para que correspondiera al problema del proyecto. En principio se genera un grafo de hamming "
   ]
  },
  {
   "cell_type": "code",
   "execution_count": 1,
   "metadata": {
    "collapsed": true
   },
   "outputs": [],
   "source": [
    "def hamdist(str1, str2):        \n",
    "        diffs = 0\n",
    "        for ch1, ch2 in zip(str1, str2):\n",
    "                if ch1 != ch2:\n",
    "                        diffs += 1\n",
    "        return diffs\n",
    "\n",
    "def hamming_binary(chromosome_len, d):\n",
    "    \"\"\"Generate a binary Hamming Graph, where each genotype is composed by chromosome_len bases and each base can take only two values. H(chromosome_len, 2). \n",
    "    \n",
    "    steps to generate an Hamming graph:\n",
    "    \n",
    "     * create 2^chromosome_len nodes, each for a different binary string\n",
    "     * for each node, find the connected nodes by flipping one position at a time.\n",
    "    \"\"\"\n",
    "    space = networkx.Graph()\n",
    "\n",
    "    # create all nodes\n",
    "    l = [\"01\"] * chromosome_len \n",
    "    all_nodes = itertools.product(*l)\n",
    "    all_nodes = [''.join(x) for x in all_nodes]\n",
    "    #logging.debug(all_nodes)\n",
    "    space.add_nodes_from(all_nodes) \n",
    "    \n",
    "    # for each node, find neighbors\n",
    "    \n",
    "    for node in space.nodes():\n",
    "        #[space.add_edge(node, mutate_node(node, base)) for base in range(chromosome_len)]\n",
    "        \n",
    "        for v in space.nodes():\n",
    "            if(v != node):\n",
    "                dist = hamdist(node, v)\n",
    "                if(dist >= d):\n",
    "                    space.add_edge(node,v)\n",
    "    \n",
    "    return space\n",
    "\n",
    "\n",
    "def mutate_node(node, n):\n",
    "    # wonder if there is some binary utils package for python\n",
    "    if node[n] == '0':\n",
    "        newbase = '1'\n",
    "    else:\n",
    "        newbase = '0'\n",
    "    new_node = node[0:n] + newbase + node[n+1:]\n",
    "    return new_node\n"
   ]
  },
  {
   "cell_type": "code",
   "execution_count": 5,
   "metadata": {
    "collapsed": false
   },
   "outputs": [
    {
     "name": "stdout",
     "output_type": "stream",
     "text": [
      "\n"
     ]
    }
   ],
   "source": [
    "space = hamming_binary(3,1)\n",
    "print space"
   ]
  },
  {
   "cell_type": "markdown",
   "metadata": {},
   "source": [
    "Seguidamente se usa un algoritmo tomado de https://networkx.github.io/documentation/development/_modules/networkx/algorithms/clique.html#find_cliques con el cual se cuentran los cliques de un grafo "
   ]
  },
  {
   "cell_type": "code",
   "execution_count": 6,
   "metadata": {
    "collapsed": false
   },
   "outputs": [
    {
     "name": "stderr",
     "output_type": "stream",
     "text": [
      "C:\\ProgramData\\Anaconda2\\lib\\site-packages\\networkx\\drawing\\nx_pylab.py:126: MatplotlibDeprecationWarning: pyplot.hold is deprecated.\n",
      "    Future behavior will be consistent with the long-time default:\n",
      "    plot commands add elements without first clearing the\n",
      "    Axes and/or Figure.\n",
      "  b = plt.ishold()\n",
      "C:\\ProgramData\\Anaconda2\\lib\\site-packages\\networkx\\drawing\\nx_pylab.py:138: MatplotlibDeprecationWarning: pyplot.hold is deprecated.\n",
      "    Future behavior will be consistent with the long-time default:\n",
      "    plot commands add elements without first clearing the\n",
      "    Axes and/or Figure.\n",
      "  plt.hold(b)\n",
      "C:\\ProgramData\\Anaconda2\\lib\\site-packages\\matplotlib\\__init__.py:917: UserWarning: axes.hold is deprecated. Please remove it from your matplotlibrc and/or style files.\n",
      "  warnings.warn(self.msg_depr_set % key)\n",
      "C:\\ProgramData\\Anaconda2\\lib\\site-packages\\matplotlib\\rcsetup.py:152: UserWarning: axes.hold is deprecated, will be removed in 3.0\n",
      "  warnings.warn(\"axes.hold is deprecated, will be removed in 3.0\")\n"
     ]
    },
    {
     "data": {
      "image/png": "[encoded data removed]",
      "text/plain": [
       "<matplotlib.figure.Figure at 0x7f1b668>"
      ]
     },
     "metadata": {},
     "output_type": "display_data"
    },
    {
     "name": "stdout",
     "output_type": "stream",
     "text": [
      "[['010', '011', '001', '100', '000', '101', '111', '110']]\n",
      "8\n"
     ]
    }
   ],
   "source": [
    "import matplotlib.pyplot as plt\n",
    "networkx.draw(space,with_labels = True)  # networkx draw()\n",
    "plt.draw()  # pyplot draw()\n",
    "plt.show()\n",
    "#source https://networkx.github.io/documentation/development/_modules/networkx/algorithms/clique.html#find_cliques\n",
    "\n",
    "print list(networkx.find_cliques(space)) \n",
    "print networkx.graph_clique_number(space)"
   ]
  },
  {
   "cell_type": "markdown",
   "metadata": {},
   "source": [
    "Finalmente realizamos el analisis del tiempo de ejecución de los algoritmos con el metodo exper analys."
   ]
  },
  {
   "cell_type": "code",
   "execution_count": 8,
   "metadata": {
    "collapsed": false
   },
   "outputs": [
    {
     "data": {
      "image/png": "[encoded data removed]",
      "text/plain": [
       "<matplotlib.figure.Figure at 0x9927e80>"
      ]
     },
     "metadata": {},
     "output_type": "display_data"
    }
   ],
   "source": [
    "import time\n",
    "import math\n",
    "import numpy as np\n",
    "import pylab as pl\n",
    "def exper_analys_clique(N):\n",
    "    R = []\n",
    "    for i in range(N):\n",
    "        tic = time.clock()#get start time\n",
    "        space = hamming_binary(i,2) # Para probar ponemos d = 2 ne el graph\n",
    "        networkx.graph_clique_number(space)\n",
    "        toc = time.clock()#get final time\n",
    "        R.append(toc - tic)\n",
    "    return R\n",
    "\n",
    "N = 4\n",
    "pl.clf()\n",
    "x = np.arange(N)\n",
    "y = np.array(exper_analys_clique(N))\n",
    "pl.plot(x, y, '-k')\n",
    "pl.show()"
   ]
  },
  {
   "cell_type": "code",
   "execution_count": null,
   "metadata": {
    "collapsed": true
   },
   "outputs": [],
   "source": []
  }
 ],
 "metadata": {
  "kernelspec": {
   "display_name": "Python 2",
   "language": "python",
   "name": "python2"
  },
  "language_info": {
   "codemirror_mode": {
    "name": "ipython",
    "version": 2
   },
   "file_extension": ".py",
   "mimetype": "text/x-python",
   "name": "python",
   "nbconvert_exporter": "python",
   "pygments_lexer": "ipython2",
   "version": "2.7.13"
  }
 },
 "nbformat": 4,
 "nbformat_minor": 2
}
