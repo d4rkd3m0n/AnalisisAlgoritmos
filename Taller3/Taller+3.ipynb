{
 "cells": [
  {
   "cell_type": "markdown",
   "metadata": {},
   "source": [
    "<h4> Taller 3 - Joaquin Suarez </h4>"
   ]
  },
  {
   "cell_type": "markdown",
   "metadata": {},
   "source": [
    "<h5> Punto 1 </h5>"
   ]
  },
  {
   "cell_type": "code",
   "execution_count": 1,
   "metadata": {
    "collapsed": true
   },
   "outputs": [],
   "source": [
    "import math\n",
    "import numpy as np\n",
    "import pylab as pl\n",
    "import random as rnd\n",
    "import time\n",
    "import sys\n",
    "%matplotlib inline"
   ]
  },
  {
   "cell_type": "code",
   "execution_count": 2,
   "metadata": {
    "collapsed": true
   },
   "outputs": [],
   "source": [
    "class Counter:\n",
    "    def __init__(self):\n",
    "        self.steps = 0\n",
    "\n",
    "    def reset(self):\n",
    "        self.steps = 0\n",
    "\n",
    "    def count(self):\n",
    "        self.steps += 1\n",
    "\n",
    "    def print_steps(self):\n",
    "        print \"Number of steps =\", self.steps"
   ]
  },
  {
   "cell_type": "code",
   "execution_count": 3,
   "metadata": {
    "collapsed": true
   },
   "outputs": [],
   "source": [
    "def maxSubArraySum(a,size):\n",
    "     \n",
    "    max_so_far = 0\n",
    "    max_ending_here = 0\n",
    "     \n",
    "    for i in range(0, size):\n",
    "        max_ending_here = max_ending_here + a[i]\n",
    "        if max_ending_here < 0:\n",
    "            max_ending_here = 0\n",
    "         \n",
    "        elif (max_so_far < max_ending_here):\n",
    "            max_so_far = max_ending_here\n",
    "             \n",
    "    return max_so_far"
   ]
  },
  {
   "cell_type": "code",
   "execution_count": 4,
   "metadata": {
    "collapsed": false
   },
   "outputs": [
    {
     "name": "stdout",
     "output_type": "stream",
     "text": [
      "[3 1 4 6 8 5]\n",
      "27\n"
     ]
    }
   ],
   "source": [
    "m= np.random.randint(9, size=(6)) # de 0 a 9\n",
    "print m\n",
    "r=maxSubArraySum(m,6)\n",
    "print r"
   ]
  },
  {
   "cell_type": "code",
   "execution_count": 5,
   "metadata": {
    "collapsed": true
   },
   "outputs": [],
   "source": [
    "def acctMaxSubArraySum(a,size, acct):\n",
    "     \n",
    "    max_so_far = 0; acct.count()\n",
    "    max_ending_here = 0; acct.count()\n",
    "     \n",
    "    for i in range(0, size):\n",
    "        acct.count()\n",
    "        max_ending_here = max_ending_here + a[i]; acct.count()\n",
    "        if max_ending_here < 0:\n",
    "            acct.count()\n",
    "            max_ending_here = 0; acct.count()\n",
    "         \n",
    "        elif (max_so_far < max_ending_here):\n",
    "            acct.count()\n",
    "            max_so_far = max_ending_here; acct.count()\n",
    "             \n",
    "    return max_so_far"
   ]
  },
  {
   "cell_type": "code",
   "execution_count": 6,
   "metadata": {
    "collapsed": false
   },
   "outputs": [
    {
     "name": "stdout",
     "output_type": "stream",
     "text": [
      "[6 7 1 2 2 5]\n",
      "23\n",
      "Number of steps = 26\n"
     ]
    }
   ],
   "source": [
    "m= np.random.randint(9, size=(6)) # de 0 a 9\n",
    "print m\n",
    "acct= Counter()\n",
    "r=acctMaxSubArraySum(m,6,acct)\n",
    "print r\n",
    "acct.print_steps()"
   ]
  },
  {
   "cell_type": "markdown",
   "metadata": {},
   "source": [
    "<h5>Punto 2</h5>"
   ]
  },
  {
   "cell_type": "code",
   "execution_count": 7,
   "metadata": {
    "collapsed": false
   },
   "outputs": [],
   "source": [
    "def max_crossover(a,start,middle,end):\n",
    "    currentLeftSum = 0\n",
    "    leftSum = -sys.maxint - 1\n",
    "    currentRightSum = 0\n",
    "    rightSum =-sys.maxint - 1\n",
    "    for i in range(middle, start, -1):\n",
    "        currentLeftSum += a[i]\n",
    "        if currentLeftSum > leftSum:\n",
    "            leftSum = currentLeftSum\n",
    "    for i in range(middle, end):\n",
    "        currentRightSum += a[i]\n",
    "        if currentRightSum > rightSum:\n",
    "            rightSum = currentRightSum\n",
    "    return leftSum + rightSum\n",
    "\n",
    "\n"
   ]
  },
  {
   "cell_type": "code",
   "execution_count": 8,
   "metadata": {
    "collapsed": false
   },
   "outputs": [],
   "source": [
    "def max_subarray(a,start,end):\n",
    "    #end=len(a)\n",
    "    if start == end:\n",
    "        return a[start]\n",
    "    else:\n",
    "        middle = (start + end) / 2\n",
    "        return max(max_subarray(a, start, middle), max_subarray(a,middle + 1, end), max_crossover(a, start, middle, end))\n",
    "\n"
   ]
  },
  {
   "cell_type": "code",
   "execution_count": 9,
   "metadata": {
    "collapsed": false
   },
   "outputs": [
    {
     "name": "stdout",
     "output_type": "stream",
     "text": [
      "[5 4 5 3 5 1]\n",
      "22\n"
     ]
    }
   ],
   "source": [
    "m= np.random.randint(9, size=(6)) # de 0 a 9\n",
    "print m\n",
    "n = len(m)-1\n",
    "r=max_subarray(m,0,n)\n",
    "print r"
   ]
  },
  {
   "cell_type": "code",
   "execution_count": 10,
   "metadata": {
    "collapsed": true
   },
   "outputs": [],
   "source": [
    "def max_crossover(a,start,middle,end,acct):\n",
    "    currentLeftSum = 0; acct.count()\n",
    "    leftSum = -sys.maxint - 1; acct.count()\n",
    "    currentRightSum = 0; acct.count()\n",
    "    rightSum =-sys.maxint - 1; acct.count()\n",
    "    for i in range(middle, start, -1):\n",
    "        acct.count()\n",
    "        currentLeftSum += a[i]; acct.count()\n",
    "        if currentLeftSum > leftSum:\n",
    "            acct.count()\n",
    "            leftSum = currentLeftSum; acct.count()\n",
    "    for i in range(middle, end):\n",
    "        acct.count()\n",
    "        currentRightSum += a[i]; acct.count()\n",
    "        if currentRightSum > rightSum:\n",
    "            acct.count()\n",
    "            rightSum = currentRightSum; acct.count()\n",
    "    return leftSum + rightSum\n",
    "\n",
    "def acctMax_subarray(a,start,end,acct):\n",
    "    #end=len(a)\n",
    "    if start == end:\n",
    "        acct.count()\n",
    "        return a[start]\n",
    "    else:\n",
    "        middle = (start + end) / 2; acct.count()\n",
    "        return max(acctMax_subarray(a, start, middle,acct), acctMax_subarray(a,middle + 1, end,acct), max_crossover(a, start, middle, end,acct))"
   ]
  },
  {
   "cell_type": "code",
   "execution_count": 11,
   "metadata": {
    "collapsed": false
   },
   "outputs": [
    {
     "name": "stdout",
     "output_type": "stream",
     "text": [
      "[7 8 4 7 7 7]\n",
      "30\n",
      "Number of steps = 75\n"
     ]
    }
   ],
   "source": [
    "m= np.random.randint(9, size=(6)) # de 0 a 9\n",
    "print m\n",
    "n = len(m)-1\n",
    "acct= Counter()\n",
    "r=acctMax_subarray(m,0,n,acct)\n",
    "print r\n",
    "acct.print_steps()"
   ]
  },
  {
   "cell_type": "markdown",
   "metadata": {},
   "source": [
    "<h5>Punto 3</h5>"
   ]
  },
  {
   "cell_type": "code",
   "execution_count": 12,
   "metadata": {
    "collapsed": true
   },
   "outputs": [],
   "source": [
    "def max2(a,b):\n",
    "    if a<b:\n",
    "        return b\n",
    "    else:\n",
    "        return a\n",
    "    \n",
    "def sumaMax3(a,x,y):\n",
    "    if x > y:\n",
    "        return 0\n",
    "    if x == y:\n",
    "        return max2(0,a[x])\n",
    "    m = ((x + y)/2)\n",
    "    \n",
    "    maxAux= max2(sumaMax3(a,x,m),\n",
    "                 sumaMax3(a,m + 1,y))\n",
    "    \n",
    "    vp=0;\n",
    "    s=0\n",
    "    for i in range(m,x - 1,-1):\n",
    "        s += a[i]\n",
    "        vp = max2(vp,s)\n",
    "    \n",
    "    vf=0\n",
    "    s=0\n",
    "    for i in range(y - m):\n",
    "        s += a[i + m + 1]\n",
    "        vf =max2(vf ,s)\n",
    "        \n",
    "    return max2(vf + vp ,maxAux)"
   ]
  },
  {
   "cell_type": "code",
   "execution_count": 13,
   "metadata": {
    "collapsed": false
   },
   "outputs": [
    {
     "name": "stdout",
     "output_type": "stream",
     "text": [
      "[-2, 11, -4, 13, -5, -2]\n",
      "20\n"
     ]
    }
   ],
   "source": [
    "m = [-2, 11, -4, 13, -5, -2]\n",
    "print (m)\n",
    "n = sumaMax3(m, 0, len(m)-1)\n",
    "print (n)"
   ]
  },
  {
   "cell_type": "code",
   "execution_count": 14,
   "metadata": {
    "collapsed": true
   },
   "outputs": [],
   "source": [
    "def max2acct(a,b,acct):\n",
    "    if a<b:\n",
    "        acct.count()\n",
    "        return b\n",
    "    else:\n",
    "        return a\n",
    "    \n",
    "def sumaMax3acct(a,x,y,acct):\n",
    "    if x > y:\n",
    "        acct.count()\n",
    "        return 0\n",
    "    if x == y:\n",
    "        acct.count()\n",
    "        return max2acct(0,a[x],acct)\n",
    "    m = ((x + y)/2)\n",
    "    acct.count()\n",
    "    \n",
    "    maxAux= max2acct(sumaMax3acct(a,x,m,acct),\n",
    "                 sumaMax3acct(a,m + 1,y,acct),acct)\n",
    "    acct.count()\n",
    "    \n",
    "    vp=0; acct.count()\n",
    "    s=0; acct.count()\n",
    "    for i in range(m,x - 1,-1):\n",
    "        acct.count()\n",
    "        s += a[i]; acct.count()\n",
    "        vp = max2acct(vp,s,acct); acct.count()\n",
    "    \n",
    "    vf=0; acct.count()\n",
    "    s=0; acct.count()\n",
    "    for i in range(y - m):\n",
    "        acct.count()\n",
    "        s += a[i + m + 1]; acct.count()\n",
    "        vf =max2acct(vf ,s,acct); acct.count()\n",
    "        \n",
    "    return max2acct(vf + vp ,maxAux,acct)"
   ]
  },
  {
   "cell_type": "code",
   "execution_count": 15,
   "metadata": {
    "collapsed": false
   },
   "outputs": [
    {
     "name": "stdout",
     "output_type": "stream",
     "text": [
      "[-2, 11, -4, 13, -5, -2]\n",
      "20\n",
      "Number of steps = 95\n"
     ]
    }
   ],
   "source": [
    "acct= Counter()\n",
    "m = [-2, 11, -4, 13, -5, -2]\n",
    "print (m)\n",
    "n = sumaMax3acct(m, 0, len(m)-1,acct)\n",
    "print (n)\n",
    "\n",
    "acct.print_steps()"
   ]
  }
 ],
 "metadata": {
  "kernelspec": {
   "display_name": "Python 2",
   "language": "python",
   "name": "python2"
  },
  "language_info": {
   "codemirror_mode": {
    "name": "ipython",
    "version": 2
   },
   "file_extension": ".py",
   "mimetype": "text/x-python",
   "name": "python",
   "nbconvert_exporter": "python",
   "pygments_lexer": "ipython2",
   "version": "2.7.13"
  }
 },
 "nbformat": 4,
 "nbformat_minor": 2
}
