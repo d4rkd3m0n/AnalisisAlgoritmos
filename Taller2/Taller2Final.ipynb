{
 "cells": [
  {
   "cell_type": "markdown",
   "metadata": {},
   "source": [
    "<h4>Joaquin Suarez</h4>"
   ]
  },
  {
   "cell_type": "code",
   "execution_count": 1,
   "metadata": {
    "collapsed": true
   },
   "outputs": [],
   "source": [
    "import math\n",
    "import numpy as np\n",
    "import pylab as pl\n",
    "import random as rnd\n",
    "import time\n",
    "%matplotlib inline"
   ]
  },
  {
   "cell_type": "markdown",
   "metadata": {},
   "source": [
    "<h5>Punto 1 taller - Multiplicacion de matrices</h5>"
   ]
  },
  {
   "cell_type": "code",
   "execution_count": 2,
   "metadata": {
    "collapsed": true
   },
   "outputs": [],
   "source": [
    "class Counter:\n",
    "    def __init__(self):\n",
    "        self.steps = 0\n",
    "\n",
    "    def reset(self):\n",
    "        self.steps = 0\n",
    "\n",
    "    def count(self):\n",
    "        self.steps += 1\n",
    "\n",
    "    def print_steps(self):\n",
    "        print \"Number of steps =\", self.steps"
   ]
  },
  {
   "cell_type": "code",
   "execution_count": 3,
   "metadata": {
    "collapsed": true
   },
   "outputs": [],
   "source": [
    "def multip(m,n): \n",
    "    result = np.zeros((len(m),len(n)))\n",
    "    for i in range(len(m)):\n",
    "           for j in range(len(n[0])):\n",
    "                   for k in range(len(n)):\n",
    "                           result[i][j] += m[i][k] * n[k][j]\n",
    "    return result"
   ]
  },
  {
   "cell_type": "code",
   "execution_count": 4,
   "metadata": {
    "collapsed": false
   },
   "outputs": [
    {
     "name": "stdout",
     "output_type": "stream",
     "text": [
      "[[0 8 1]\n",
      " [3 1 0]\n",
      " [6 4 5]]\n",
      "[[0 7 7]\n",
      " [3 4 4]\n",
      " [8 3 7]]\n",
      "[[ 32.  35.  39.]\n",
      " [  3.  25.  25.]\n",
      " [ 52.  73.  93.]]\n"
     ]
    }
   ],
   "source": [
    "m= np.random.randint(9, size=(3,3)) # de 0 a 9\n",
    "n= np.random.randint(9, size=(3,3)) # de 0 a 9\n",
    "print m\n",
    "print n\n",
    "r=multip(m,n)\n",
    "print r"
   ]
  },
  {
   "cell_type": "code",
   "execution_count": 5,
   "metadata": {
    "collapsed": false
   },
   "outputs": [],
   "source": [
    "def acctMultip(m,n,acct): \n",
    "    result = np.zeros((len(m),len(n))); acct.count()\n",
    "    for i in range(len(m)):\n",
    "        acct.count()\n",
    "        for j in range(len(n[0])):\n",
    "                acct.count()\n",
    "                for k in range(len(n)):\n",
    "                        acct.count()\n",
    "                        result[i][j] += m[i][k] * n[k][j]; acct.count()\n",
    "    return result"
   ]
  },
  {
   "cell_type": "code",
   "execution_count": 6,
   "metadata": {
    "collapsed": false
   },
   "outputs": [
    {
     "name": "stdout",
     "output_type": "stream",
     "text": [
      "[[8 5 0]\n",
      " [3 5 5]\n",
      " [8 4 0]]\n",
      "[[4 0 8]\n",
      " [3 5 5]\n",
      " [0 5 6]]\n",
      "Number of steps = 67\n",
      "[[ 47.  25.  89.]\n",
      " [ 27.  50.  79.]\n",
      " [ 44.  20.  84.]]\n"
     ]
    }
   ],
   "source": [
    "m= np.random.randint(9, size=(3,3)) # de 0 a 9\n",
    "n= np.random.randint(9, size=(3,3)) # de 0 a 9\n",
    "acct= Counter()\n",
    "r=acctMultip(m,n,acct)\n",
    "print m\n",
    "print n\n",
    "acct.print_steps()\n",
    "print r"
   ]
  },
  {
   "cell_type": "code",
   "execution_count": 7,
   "metadata": {
    "collapsed": true
   },
   "outputs": [],
   "source": [
    "def exper_analysisM(n):\n",
    "    result = []\n",
    "    acct = Counter()\n",
    "    for i in range(n):\n",
    "        m= np.random.randint(9, size=(i,i)) \n",
    "        x= np.random.randint(9, size=(i,i)) \n",
    "        acct.reset()\n",
    "        acctMultip(m,x,acct)\n",
    "        result.append(acct.steps)\n",
    "    print result\n",
    "    return result"
   ]
  },
  {
   "cell_type": "code",
   "execution_count": 8,
   "metadata": {
    "collapsed": false
   },
   "outputs": [
    {
     "name": "stdout",
     "output_type": "stream",
     "text": [
      "[1, 5, 23, 67, 149, 281, 475, 743, 1097, 1549]\n",
      "[1, 5, 23, 67, 149, 281, 475, 743, 1097, 1549]\n"
     ]
    }
   ],
   "source": [
    "print exper_analysisM(10)"
   ]
  },
  {
   "cell_type": "code",
   "execution_count": 9,
   "metadata": {
    "collapsed": false
   },
   "outputs": [
    {
     "name": "stdout",
     "output_type": "stream",
     "text": [
      "[1, 5, 23, 67, 149, 281, 475, 743, 1097, 1549]\n"
     ]
    },
    {
     "data": {
      "text/plain": [
       "[<matplotlib.lines.Line2D at 0x745e358>]"
      ]
     },
     "execution_count": 9,
     "metadata": {},
     "output_type": "execute_result"
    },
    {
     "data": {
      "image/png": "[encoded data removed]",
      "text/plain": [
       "<matplotlib.figure.Figure at 0x787c518>"
      ]
     },
     "metadata": {},
     "output_type": "display_data"
    }
   ],
   "source": [
    "pl.clf()\n",
    "x = np.arange(10)\n",
    "y = np.array(exper_analysisM(10))\n",
    "pl.plot(x, y, 'r.')"
   ]
  },
  {
   "cell_type": "markdown",
   "metadata": {},
   "source": [
    "<h5>Punto 2 - dividir y conquistar</h5> "
   ]
  },
  {
   "cell_type": "code",
   "execution_count": 10,
   "metadata": {
    "collapsed": true
   },
   "outputs": [],
   "source": [
    "def suma(m,n):\n",
    "    t = len(m)\n",
    "    result = np.zeros((len(m),len(n)))\n",
    "    for i in range(t):\n",
    "        for j in range(t):\n",
    "            result[i][j] = m[i][j] + n[i][j]\n",
    "    return result\n",
    "\n",
    "def dividirMultip(m, n):\n",
    "    bandera=0 \n",
    "    if (len(m) <= 2):\n",
    "         return multip(m,n)\n",
    "    else :\n",
    "        L=len(m)\n",
    "        if(L%2!=0):\n",
    "            x = np.zeros((L, 1))\n",
    "            y = np.zeros((1, L+1))\n",
    "            m = np.c_[m,x]\n",
    "            m = np.r_[m,y]\n",
    "            n = np.c_[n,x]\n",
    "            n = np.r_[n,y]\n",
    "            L=L+1    \n",
    "            bandera=1 \n",
    "        L= (L)/2\n",
    "        aa=m[:L,:L]\n",
    "        ab=m[:L,L:]\n",
    "        ac=m[L:,:L]\n",
    "        ad=m[L:,L:]\n",
    "        ba=n[:L,:L]\n",
    "        bb=n[:L,L:]\n",
    "        bc=n[L:,:L]\n",
    "        bd=n[L:,L:]     \n",
    "    caa =dividirMultip(aa,ba)\n",
    "    cab =dividirMultip(ab,bc)\n",
    "    cba =dividirMultip(aa,bb)\n",
    "    cbb =dividirMultip(ab,bd)\n",
    "    cca=dividirMultip(ac,ba)\n",
    "    ccb =dividirMultip(ad,bc)\n",
    "    cda =dividirMultip(ac,bb)\n",
    "    cdb =dividirMultip(ad,bd)\n",
    "    ca = suma(caa,cab)\n",
    "    cb = suma(cba,cbb)\n",
    "    cc = suma(cca,ccb)\n",
    "    cd = suma(cda,cdb)\n",
    "    ca = np.c_[ca,cb]\n",
    "    cc = np.c_[cc,cd]\n",
    "    ca = np.r_[ca,cc]\n",
    "    if bandera==1:\n",
    "        l=len(ca)\n",
    "        ca = ca[:l-1,:l-1]\n",
    "    return ca"
   ]
  },
  {
   "cell_type": "code",
   "execution_count": 11,
   "metadata": {
    "collapsed": false
   },
   "outputs": [
    {
     "name": "stdout",
     "output_type": "stream",
     "text": [
      "[[2 7 4]\n",
      " [1 0 2]\n",
      " [1 3 0]]\n",
      "[[5 6 3]\n",
      " [5 2 7]\n",
      " [3 0 7]]\n",
      "[[ 57.  26.  83.]\n",
      " [ 11.   6.  17.]\n",
      " [ 20.  12.  24.]]\n"
     ]
    }
   ],
   "source": [
    "m= np.random.randint(9, size=(3,3)) # de 0 a 9\n",
    "n= np.random.randint(9, size=(3,3)) # de 0 a 9\n",
    "print m\n",
    "print n\n",
    "r=dividirMultip(m,n)\n",
    "print r"
   ]
  },
  {
   "cell_type": "code",
   "execution_count": 12,
   "metadata": {
    "collapsed": false
   },
   "outputs": [],
   "source": [
    "def acctSuma(m,n,acct):\n",
    "    t = len(m); acct.count()\n",
    "    result = np.zeros((len(m),len(n))); acct.count()\n",
    "    for i in range(t):\n",
    "        acct.count()\n",
    "        for j in range(t):\n",
    "            acct.count()\n",
    "            result[i][j] = m[i][j] + n[i][j]; acct.count()\n",
    "    return result\n",
    "\n",
    "def acctDividirMultip(m, n, acct):\n",
    "    bandera=0; acct.count()\n",
    "    if (len(m) <= 2):\n",
    "        acct.count()\n",
    "        return acctMultip(m,n,acct)\n",
    "    else :\n",
    "        L=len(m); acct.count()\n",
    "        if(L%2!=0):\n",
    "            acct.count()\n",
    "            x = np.zeros((L, 1)); acct.count()\n",
    "            y = np.zeros((1, L+1)); acct.count()\n",
    "            m = np.c_[m,x]; acct.count()\n",
    "            m = np.r_[m,y]; acct.count()\n",
    "            n = np.c_[n,x]; acct.count()\n",
    "            n = np.r_[n,y]; acct.count()\n",
    "            L=L+1; acct.count()\n",
    "            bandera=1; acct.count()\n",
    "        L= (L)/2; acct.count()\n",
    "        aa=m[:L,:L]; acct.count()\n",
    "        ab=m[:L,L:]; acct.count()\n",
    "        ac=m[L:,:L]; acct.count()\n",
    "        ad=m[L:,L:]; acct.count()\n",
    "        ba=n[:L,:L]; acct.count()\n",
    "        bb=n[:L,L:]; acct.count()\n",
    "        bc=n[L:,:L]; acct.count()\n",
    "        bd=n[L:,L:]; acct.count()\n",
    "    caa =dividirMultip(aa,ba); acct.count()\n",
    "    cab =dividirMultip(ab,bc); acct.count()\n",
    "    cba =dividirMultip(aa,bb); acct.count()\n",
    "    cbb =dividirMultip(ab,bd); acct.count()\n",
    "    cca=dividirMultip(ac,ba); acct.count()\n",
    "    ccb =dividirMultip(ad,bc); acct.count()\n",
    "    cda =dividirMultip(ac,bb); acct.count()\n",
    "    cdb =dividirMultip(ad,bd); acct.count()\n",
    "    ca = suma(caa,cab); acct.count()\n",
    "    cb = suma(cba,cbb); acct.count()\n",
    "    cc = suma(cca,ccb); acct.count()\n",
    "    cd = suma(cda,cdb); acct.count()\n",
    "    ca = np.c_[ca,cb]; acct.count()\n",
    "    cc = np.c_[cc,cd]; acct.count()\n",
    "    ca = np.r_[ca,cc]; acct.count()\n",
    "    if bandera==1:\n",
    "        acct.count()\n",
    "        l=len(ca); acct.count()\n",
    "        ca = ca[:l-1,:l-1]; acct.count()\n",
    "    return ca"
   ]
  },
  {
   "cell_type": "code",
   "execution_count": 13,
   "metadata": {
    "collapsed": false
   },
   "outputs": [
    {
     "name": "stdout",
     "output_type": "stream",
     "text": [
      "[[7 4 3]\n",
      " [4 8 3]\n",
      " [4 3 6]]\n",
      "[[5 2 1]\n",
      " [3 0 4]\n",
      " [4 3 4]]\n",
      "Number of steps = 38\n",
      "[[ 59.  23.  35.]\n",
      " [ 56.  17.  48.]\n",
      " [ 53.  26.  40.]]\n"
     ]
    }
   ],
   "source": [
    "m= np.random.randint(9, size=(3,3)) # de 0 a 9\n",
    "n= np.random.randint(9, size=(3,3)) # de 0 a 9\n",
    "acct= Counter()\n",
    "r=acctDividirMultip(m,n,acct)\n",
    "print m\n",
    "print n\n",
    "acct.print_steps()\n",
    "print r"
   ]
  },
  {
   "cell_type": "code",
   "execution_count": 14,
   "metadata": {
    "collapsed": true
   },
   "outputs": [],
   "source": [
    "def exper_analysisD(n):\n",
    "    result = []\n",
    "    acct = Counter()\n",
    "    for i in range(n):\n",
    "        m= np.random.randint(9, size=(i,i)) \n",
    "        x= np.random.randint(9, size=(i,i)) \n",
    "        acct.reset()\n",
    "        acctDividirMultip(m,x,acct)\n",
    "        result.append(acct.steps)\n",
    "    print result\n",
    "    return result"
   ]
  },
  {
   "cell_type": "code",
   "execution_count": 15,
   "metadata": {
    "collapsed": false
   },
   "outputs": [
    {
     "name": "stdout",
     "output_type": "stream",
     "text": [
      "[3, 7, 25, 38, 26, 38, 26, 38, 26, 38]\n",
      "[3, 7, 25, 38, 26, 38, 26, 38, 26, 38]\n"
     ]
    }
   ],
   "source": [
    "print exper_analysisD(10)"
   ]
  },
  {
   "cell_type": "code",
   "execution_count": 16,
   "metadata": {
    "collapsed": false
   },
   "outputs": [
    {
     "name": "stdout",
     "output_type": "stream",
     "text": [
      "[3, 7, 25, 38, 26, 38, 26, 38, 26, 38]\n"
     ]
    },
    {
     "data": {
      "text/plain": [
       "[<matplotlib.lines.Line2D at 0x7bdf390>]"
      ]
     },
     "execution_count": 16,
     "metadata": {},
     "output_type": "execute_result"
    },
    {
     "data": {
      "image/png": "[encoded data removed]",
      "text/plain": [
       "<matplotlib.figure.Figure at 0x77b5198>"
      ]
     },
     "metadata": {},
     "output_type": "display_data"
    }
   ],
   "source": [
    "pl.clf()\n",
    "x = np.arange(10)\n",
    "y = np.array(exper_analysisD(10))\n",
    "pl.plot(x, y, 'r.')"
   ]
  },
  {
   "cell_type": "markdown",
   "metadata": {},
   "source": [
    "<h5>Punto 3 - Strassen</h5>"
   ]
  },
  {
   "cell_type": "code",
   "execution_count": 17,
   "metadata": {
    "collapsed": true
   },
   "outputs": [],
   "source": [
    "def resta(m,n):\n",
    "    t = len(m)\n",
    "    result = np.zeros((len(m),len(n)))\n",
    "    for i in range(t):\n",
    "        for j in range(t):\n",
    "            result[i][j] = m[i][j] - n[i][j]\n",
    "    return result\n",
    "\n",
    "def strassenMultip(m, n):\n",
    "    bandera=0 \n",
    "    if (len(m) <= 2):\n",
    "         return multip(m,n)\n",
    "    else :\n",
    "        L=len(m)\n",
    "        if(L%2!=0):\n",
    "            x = np.zeros((L, 1))\n",
    "            y = np.zeros((1, L+1))\n",
    "            m = np.c_[m,x]\n",
    "            m = np.r_[m,y]\n",
    "            n = np.c_[n,x]\n",
    "            n = np.r_[n,y]\n",
    "            L=L+1    \n",
    "            bandera=1 \n",
    "        L= (L)/2\n",
    "        aa=m[:L,:L]\n",
    "        ab=m[:L,L:]\n",
    "        ac=m[L:,:L]\n",
    "        ad=m[L:,L:]\n",
    "        ba=n[:L,:L]\n",
    "        bb=n[:L,L:]\n",
    "        bc=n[L:,:L]\n",
    "        bd=n[L:,L:]      \n",
    "    maa = suma(aa,ad)\n",
    "    mab = suma(ba,bd)\n",
    "    ma  = strassenMultip(maa,mab)\n",
    "    mba = suma(ac,ad)\n",
    "    mb  = strassenMultip(mba,ba)\n",
    "    mca = resta(bb,bd)\n",
    "    mc  = strassenMultip(aa,mca)\n",
    "    mda = resta(bc,ba)\n",
    "    md  = strassenMultip(ad,mda)\n",
    "    mea = suma(aa,ab)\n",
    "    me = strassenMultip(mea,bd)\n",
    "    mfa = resta(ac,aa)\n",
    "    mfb = suma(ba,bb)\n",
    "    mf = strassenMultip(mfa,mfb)\n",
    "    mga = resta(ab,ad)\n",
    "    mgb = suma(bc,bd)\n",
    "    mg = strassenMultip(mga,mgb)\n",
    "    ca = suma(ma,md)\n",
    "    ca = resta(ca,me)\n",
    "    ca = suma(ca,mg)\n",
    "    cb = suma(mc,me)\n",
    "    cc = suma(mb,md)\n",
    "    cd = resta(ma,mb)\n",
    "    cd = suma(cd,mc)\n",
    "    cd = suma(cd,mf)\n",
    "    ca = np.c_[ca,cb]\n",
    "    cc = np.c_[cc,cd]\n",
    "    ca = np.r_[ca,cc]\n",
    "    if bandera==1:\n",
    "        l=len(ca)\n",
    "        ca = ca[:l-1,:l-1]\n",
    "    return ca"
   ]
  },
  {
   "cell_type": "code",
   "execution_count": 18,
   "metadata": {
    "collapsed": false
   },
   "outputs": [
    {
     "name": "stdout",
     "output_type": "stream",
     "text": [
      "[[5 2 2]\n",
      " [6 4 1]\n",
      " [0 8 0]]\n",
      "[[1 2 4]\n",
      " [7 6 6]\n",
      " [8 0 0]]\n",
      "[[ 35.  22.  32.]\n",
      " [ 42.  36.  48.]\n",
      " [ 56.  48.  48.]]\n"
     ]
    }
   ],
   "source": [
    "m= np.random.randint(9, size=(3,3)) # de 0 a 9\n",
    "n= np.random.randint(9, size=(3,3)) # de 0 a 9\n",
    "print m\n",
    "print n\n",
    "r=strassenMultip(m,n)\n",
    "print r"
   ]
  },
  {
   "cell_type": "code",
   "execution_count": 19,
   "metadata": {
    "collapsed": true
   },
   "outputs": [],
   "source": [
    "def acctResta(m,n,acct):\n",
    "    t = len(m); acct.count()\n",
    "    result = np.zeros((len(m),len(n))); acct.count()\n",
    "    for i in range(t):\n",
    "        acct.count()\n",
    "        for j in range(t):\n",
    "            acct.count()\n",
    "            result[i][j] = m[i][j] - n[i][j]; acct.count()\n",
    "    return result\n",
    "\n",
    "def acctStrassenMultip(m, n, acct):\n",
    "    bandera=0; acct.count()\n",
    "    if (len(m) <= 2):\n",
    "        acct.count()\n",
    "        return multip(m,n)\n",
    "    else :\n",
    "        acct.count()\n",
    "        L=len(m); acct.count()\n",
    "        if(L%2!=0):\n",
    "            acct.count()\n",
    "            x = np.zeros((L, 1)); acct.count()\n",
    "            y = np.zeros((1, L+1)); acct.count()\n",
    "            m = np.c_[m,x]; acct.count()\n",
    "            m = np.r_[m,y]; acct.count()\n",
    "            n = np.c_[n,x]; acct.count()\n",
    "            n = np.r_[n,y]; acct.count()\n",
    "            L=L+1; acct.count()\n",
    "            bandera=1; acct.count()\n",
    "        L= (L)/2; acct.count()\n",
    "        aa=m[:L,:L]; acct.count()\n",
    "        ab=m[:L,L:]; acct.count()\n",
    "        ac=m[L:,:L]; acct.count()\n",
    "        ad=m[L:,L:]; acct.count()\n",
    "        ba=n[:L,:L]; acct.count()\n",
    "        bb=n[:L,L:]; acct.count()\n",
    "        bc=n[L:,:L]; acct.count()\n",
    "        bd=n[L:,L:]; acct.count()\n",
    "    maa = suma(aa,ad); acct.count()\n",
    "    mab = suma(ba,bd); acct.count()\n",
    "    ma  = strassenMultip(maa,mab); acct.count()\n",
    "    mba = suma(ac,ad); acct.count()\n",
    "    mb  = strassenMultip(mba,ba); acct.count()\n",
    "    mca = resta(bb,bd); acct.count()\n",
    "    mc  = strassenMultip(aa,mca); acct.count()\n",
    "    mda = resta(bc,ba); acct.count()\n",
    "    md  = strassenMultip(ad,mda); acct.count()\n",
    "    mea = suma(aa,ab); acct.count()\n",
    "    me = strassenMultip(mea,bd); acct.count()\n",
    "    mfa = resta(ac,aa); acct.count()\n",
    "    mfb = suma(ba,bb); acct.count()\n",
    "    mf = strassenMultip(mfa,mfb); acct.count()\n",
    "    mga = resta(ab,ad); acct.count()\n",
    "    mgb = suma(bc,bd); acct.count()\n",
    "    mg = strassenMultip(mga,mgb); acct.count()\n",
    "    ca = suma(ma,md); acct.count()\n",
    "    ca = resta(ca,me); acct.count()\n",
    "    ca = suma(ca,mg); acct.count()\n",
    "    cb = suma(mc,me); acct.count()\n",
    "    cc = suma(mb,md); acct.count()\n",
    "    cd = resta(ma,mb); acct.count()\n",
    "    cd = suma(cd,mc); acct.count()\n",
    "    cd = suma(cd,mf); acct.count()\n",
    "    ca = np.c_[ca,cb]; acct.count()\n",
    "    cc = np.c_[cc,cd]; acct.count()\n",
    "    ca = np.r_[ca,cc]; acct.count()\n",
    "    if bandera==1:\n",
    "        acct.count()\n",
    "        l=len(ca); acct.count()\n",
    "        ca = ca[:l-1,:l-1]; acct.count()\n",
    "    return ca"
   ]
  },
  {
   "cell_type": "code",
   "execution_count": 20,
   "metadata": {
    "collapsed": false
   },
   "outputs": [
    {
     "name": "stdout",
     "output_type": "stream",
     "text": [
      "[[5 3 7]\n",
      " [5 4 7]\n",
      " [6 4 5]]\n",
      "[[2 3 8]\n",
      " [1 4 0]\n",
      " [1 1 7]]\n",
      "Number of steps = 52\n",
      "[[ 20.  34.  89.]\n",
      " [ 21.  38.  89.]\n",
      " [ 21.  39.  83.]]\n"
     ]
    }
   ],
   "source": [
    "m= np.random.randint(9, size=(3,3)) # de 0 a 9\n",
    "n= np.random.randint(9, size=(3,3)) # de 0 a 9\n",
    "acct= Counter()\n",
    "r=acctStrassenMultip(m,n,acct)\n",
    "print m\n",
    "print n\n",
    "acct.print_steps()\n",
    "print r"
   ]
  },
  {
   "cell_type": "code",
   "execution_count": 21,
   "metadata": {
    "collapsed": true
   },
   "outputs": [],
   "source": [
    "def exper_analysisS(n):\n",
    "    result = []\n",
    "    acct = Counter()\n",
    "    for i in range(n):\n",
    "        m= np.random.randint(9, size=(i,i)) \n",
    "        x= np.random.randint(9, size=(i,i)) \n",
    "        acct.reset()\n",
    "        acctStrassenMultip(m,x,acct)\n",
    "        result.append(acct.steps)\n",
    "    print result\n",
    "    return result"
   ]
  },
  {
   "cell_type": "code",
   "execution_count": 22,
   "metadata": {
    "collapsed": false
   },
   "outputs": [
    {
     "name": "stdout",
     "output_type": "stream",
     "text": [
      "[2, 2, 2, 52, 40, 52, 40, 52, 40, 52]\n",
      "[2, 2, 2, 52, 40, 52, 40, 52, 40, 52]\n"
     ]
    }
   ],
   "source": [
    "print exper_analysisS(10)"
   ]
  },
  {
   "cell_type": "code",
   "execution_count": 23,
   "metadata": {
    "collapsed": false
   },
   "outputs": [
    {
     "name": "stdout",
     "output_type": "stream",
     "text": [
      "[2, 2, 2, 52, 40, 52, 40, 52, 40, 52]\n"
     ]
    },
    {
     "data": {
      "text/plain": [
       "[<matplotlib.lines.Line2D at 0x8ab38d0>]"
      ]
     },
     "execution_count": 23,
     "metadata": {},
     "output_type": "execute_result"
    },
    {
     "data": {
      "image/png": "[encoded data removed]",
      "text/plain": [
       "<matplotlib.figure.Figure at 0x743b0f0>"
      ]
     },
     "metadata": {},
     "output_type": "display_data"
    }
   ],
   "source": [
    "pl.clf()\n",
    "x = np.arange(10)\n",
    "y = np.array(exper_analysisS(10))\n",
    "pl.plot(x, y, 'r.')"
   ]
  },
  {
   "cell_type": "markdown",
   "metadata": {},
   "source": [
    "<h4> Grafica comparativa</h4>"
   ]
  },
  {
   "cell_type": "code",
   "execution_count": 25,
   "metadata": {
    "collapsed": false
   },
   "outputs": [
    {
     "name": "stdout",
     "output_type": "stream",
     "text": [
      "[1, 5, 23, 67, 149, 281, 475, 743, 1097, 1549]\n",
      "[3, 7, 25, 38, 26, 38, 26, 38, 26, 38]\n",
      "[2, 2, 2, 52, 40, 52, 40, 52, 40, 52]\n"
     ]
    },
    {
     "data": {
      "text/plain": [
       "[<matplotlib.lines.Line2D at 0x8ea6a90>,\n",
       " <matplotlib.lines.Line2D at 0x8ea6b70>,\n",
       " <matplotlib.lines.Line2D at 0x8eb51d0>]"
      ]
     },
     "execution_count": 25,
     "metadata": {},
     "output_type": "execute_result"
    },
    {
     "data": {
      "image/png": "[encoded data removed]",
      "text/plain": [
       "<matplotlib.figure.Figure at 0x8d860f0>"
      ]
     },
     "metadata": {},
     "output_type": "display_data"
    }
   ],
   "source": [
    "pl.clf()\n",
    "x = np.arange(10)\n",
    "M = np.array(exper_analysisM(10))\n",
    "D = np.array(exper_analysisD(10))\n",
    "S = np.array(exper_analysisS(10))\n",
    "pl.plot(x, M, 'r.', x, D, 'g.', x, S, 'b.')"
   ]
  }
 ],
 "metadata": {
  "kernelspec": {
   "display_name": "Python 2",
   "language": "python",
   "name": "python2"
  },
  "language_info": {
   "codemirror_mode": {
    "name": "ipython",
    "version": 2
   },
   "file_extension": ".py",
   "mimetype": "text/x-python",
   "name": "python",
   "nbconvert_exporter": "python",
   "pygments_lexer": "ipython2",
   "version": "2.7.13"
  }
 },
 "nbformat": 4,
 "nbformat_minor": 2
}
